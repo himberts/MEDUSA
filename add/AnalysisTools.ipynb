{
 "cells": [
  {
   "cell_type": "code",
   "execution_count": null,
   "id": "42d7a11f",
   "metadata": {},
   "outputs": [],
   "source": [
    "!pip install matplotlib\n",
    "!pip install numpy\n",
    "# !pip install plotly\n",
    "!pip install pickle-mixin\n",
    "# !pip install pytest-shutil"
   ]
  },
  {
   "cell_type": "code",
   "execution_count": null,
   "id": "60f84685",
   "metadata": {
    "pycharm": {
     "name": "#%%\n"
    },
    "scrolled": false
   },
   "outputs": [],
   "source": [
    "import matplotlib.pyplot as plt\n",
    "import numpy as np\n",
    "import pickle\n",
    "from XrayLib import xray\n",
    "\n",
    "with open('xrayobj.pkl', 'rb') as pickle_file:\n",
    "    a = pickle.load(pickle_file)\n",
    "    \n",
    "a.plottiff(show=1)\n",
    "a.plotreflectivity(showreflect=1)"
   ]
  },
  {
   "cell_type": "code",
   "execution_count": null,
   "id": "cfc050ba",
   "metadata": {},
   "outputs": [],
   "source": [
    "DataFit1 = np.genfromtxt('FitResults_fitted.fit', delimiter='\\t', skip_header=31)\n",
    "DataFit2 = np.genfromtxt('FitResults_fitted2.fit', delimiter='\\t', skip_header=31)\n",
    "\n",
    "plt.figure\n",
    "plt.plot(DataFit1[:,0],DataFit1[:,1],'.')\n",
    "plt.plot(DataFit1[:,0],DataFit1[:,3],'-')\n",
    "plt.plot(DataFit2[:,0],DataFit2[:,1],'.')\n",
    "plt.plot(DataFit2[:,0],DataFit2[:,3],'-')"
   ]
  }
 ],
 "metadata": {
  "hide_input": false,
  "kernelspec": {
   "display_name": "Python 3 (ipykernel)",
   "language": "python",
   "name": "python3"
  },
  "language_info": {
   "codemirror_mode": {
    "name": "ipython",
    "version": 3
   },
   "file_extension": ".py",
   "mimetype": "text/x-python",
   "name": "python",
   "nbconvert_exporter": "python",
   "pygments_lexer": "ipython3",
   "version": "3.10.6"
  },
  "varInspector": {
   "cols": {
    "lenName": 16,
    "lenType": 16,
    "lenVar": 40
   },
   "kernels_config": {
    "python": {
     "delete_cmd_postfix": "",
     "delete_cmd_prefix": "del ",
     "library": "var_list.py",
     "varRefreshCmd": "print(var_dic_list())"
    },
    "r": {
     "delete_cmd_postfix": ") ",
     "delete_cmd_prefix": "rm(",
     "library": "var_list.r",
     "varRefreshCmd": "cat(var_dic_list()) "
    }
   },
   "types_to_exclude": [
    "module",
    "function",
    "builtin_function_or_method",
    "instance",
    "_Feature"
   ],
   "window_display": false
  }
 },
 "nbformat": 4,
 "nbformat_minor": 5
}
